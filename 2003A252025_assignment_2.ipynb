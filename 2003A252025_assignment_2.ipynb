{
  "nbformat": 4,
  "nbformat_minor": 0,
  "metadata": {
    "colab": {
      "name": "2003A252025_assignment_2",
      "provenance": []
    },
    "kernelspec": {
      "name": "python3",
      "display_name": "Python 3"
    },
    "language_info": {
      "name": "python"
    }
  },
  "cells": [
    {
      "cell_type": "code",
      "metadata": {
        "id": "MzQaC5EpRXbO"
      },
      "source": [
        "import numpy as np\n",
        "  \n",
        "x1=[3.2,3.2,3.7,3.9,4,4,4.1,4.5,4.9,5.1,5.3,5.9,6]\n",
        "y=[54445,64445,57189,63218,55794,56957,57081,61111,67938,66029,83088,81363,93940]\n",
        "yp=[]\n",
        "e=[]\n",
        "\n",
        "m=[1235,1500,1850,2000]\n",
        "c=[1900,1950,2000,2100]\n",
        "#g=[]\n",
        "def linear(m,c):\n",
        "  sum=0\n",
        "  g=[]\n",
        "  yp=[]\n",
        "  for i in range(0,len(x1)):\n",
        "    yp.append(m*x1[i]+c)\n",
        "    g.append((y[i]-yp[i])**2)\n",
        "    #sum=sum+g\n",
        "    #e.append(g)\n",
        "    k=np.array(g)\n",
        "  print('meam square error is :',np.mean(k))\n",
        "    #sum=0"
      ],
      "execution_count": 9,
      "outputs": []
    },
    {
      "cell_type": "code",
      "metadata": {
        "colab": {
          "base_uri": "https://localhost:8080/"
        },
        "id": "dCQXYWFyRf6a",
        "outputId": "b7c33344-f0e1-41cd-f7fd-9eee9ea08d13"
      },
      "source": [
        "for i in range(0,4):\n",
        "   linear(m[i],c[i])"
      ],
      "execution_count": 10,
      "outputs": [
        {
          "output_type": "stream",
          "name": "stdout",
          "text": [
            "meam square error is : 3595685378.8461537\n",
            "meam square error is : 3448159281.5384617\n",
            "meam square error is : 3259909250.0\n",
            "meam square error is : 3172164112.3076925\n"
          ]
        }
      ]
    }
  ]
}